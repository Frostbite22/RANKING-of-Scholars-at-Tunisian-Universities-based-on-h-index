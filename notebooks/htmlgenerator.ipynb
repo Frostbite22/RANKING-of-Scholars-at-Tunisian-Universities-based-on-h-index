{
  "nbformat": 4,
  "nbformat_minor": 0,
  "metadata": {
    "colab": {
      "provenance": [],
      "collapsed_sections": [],
      "authorship_tag": "ABX9TyM20LVHWgKu42fDPl9fPplE"
    },
    "kernelspec": {
      "name": "python3",
      "display_name": "Python 3"
    },
    "language_info": {
      "name": "python"
    }
  },
  "cells": [
    {
      "cell_type": "code",
      "execution_count": 2,
      "metadata": {
        "colab": {
          "base_uri": "https://localhost:8080/"
        },
        "id": "osH9P2UCUDMo",
        "outputId": "d03d826a-fec6-4e2b-be28-4fe19b7200a4"
      },
      "outputs": [
        {
          "output_type": "stream",
          "name": "stdout",
          "text": [
            "Mounted at /content/drive\n"
          ]
        }
      ],
      "source": [
        "from google.colab import drive\n",
        "import json\n",
        "drive.mount('/content/drive')\n",
        "import os\n",
        "os.chdir(\"/content/drive/\")\n",
        "with open('/content/drive/MyDrive/authors_with_h_index.txt','r') as f:\n",
        "  content = {}\n",
        "  content = json.loads(f.read())"
      ]
    },
    {
      "cell_type": "code",
      "source": [
        "content[8]"
      ],
      "metadata": {
        "colab": {
          "base_uri": "https://localhost:8080/"
        },
        "id": "HecNB9xkUyQS",
        "outputId": "c9260c7d-7c55-4bf3-8d23-a0328efa3cea"
      },
      "execution_count": 4,
      "outputs": [
        {
          "output_type": "execute_result",
          "data": {
            "text/plain": [
              "{'profile_name': 'Amira Zarrouk',\n",
              " 'profile_link': 'https://scholar.google.com/citations?hl=en&user=FAqBMboAAAAJ',\n",
              " 'profile_affiliations': 'University of Sousse. Department of Biochemistry.',\n",
              " 'profile_email': 'Verified email at mssm.edu',\n",
              " 'profile_city_by_count': 'Cited by 11125',\n",
              " 'profile_interests': [],\n",
              " 'h_index': 27}"
            ]
          },
          "metadata": {},
          "execution_count": 4
        }
      ]
    },
    {
      "cell_type": "code",
      "source": [
        "from datetime import datetime\n",
        "now = datetime.utcnow()\n",
        "date_time = now.strftime(\"%m/%d/%Y, %H:%M:%S UTC\")\n",
        "print(date_time)"
      ],
      "metadata": {
        "colab": {
          "base_uri": "https://localhost:8080/"
        },
        "id": "_uy7h-RWk0f_",
        "outputId": "2cefb99d-0cfc-4002-aca4-afa5b0756a30"
      },
      "execution_count": 10,
      "outputs": [
        {
          "output_type": "stream",
          "name": "stdout",
          "text": [
            "10/02/2022, 16:41:54 UTC\n"
          ]
        }
      ]
    },
    {
      "cell_type": "code",
      "source": [
        "os.chdir(\"/content/drive/\")\n",
        "with open('/content/drive/MyDrive/ranking.html','w') as f1:\n",
        "  f1.write('''<html>\n",
        "<head>\n",
        "<title>TuniSci Ranking 🇹🇳</title>\n",
        "<link rel=\"stylesheet\" href=\"./ranking_files/tooltip.css\" type=\"text/css\">\n",
        "<link rel=\"stylesheet\" href=\"./ranking_files/style.css\" type=\"text/css\" media=\"print, projection, screen\">\n",
        "<script src=\"./ranking_files/sort-table.js\"></script>\n",
        "<script src=\"./ranking_files/sort-table.min.js\"></script>\n",
        "</head>\n",
        "<body>\n",
        "<a href=\"https://github.com/Frostbite22/TuniSci/\" bis_size=\"{&quot;x&quot;:8,&quot;y&quot;:8,&quot;w&quot;:0,&quot;h&quot;:0,&quot;abs_x&quot;:8,&quot;abs_y&quot;:8}\"><img style=\"position: absolute; top: 0; right: 0; border: 0;\" src=\"./ranking_files/68747470733a2f2f73332e616d617a6f6e6177732e636f6d2f6769746875622f726962626f6e732f666f726b6d655f72696768745f6461726b626c75655f3132313632312e706e67\" alt=\"Fork me on GitHub\" data-canonical-src=\"https://s3.amazonaws.com/github/ribbons/forkme_right_darkblue_121621.png\" bis_size=\"{&quot;x&quot;:815,&quot;y&quot;:0,&quot;w&quot;:149,&quot;h&quot;:149,&quot;abs_x&quot;:815,&quot;abs_y&quot;:0}\" bis_id=\"bn_6v6jeajr0eyut3rt9awg5s\"></a>\n",
        "\n",
        "<h1>TuniSci Ranking 🇹🇳</h1>\n",
        "\n",
        "<p>by <a href=\"https://github.com/Frostbite22\">Mohamed Fares Landoulsi</a> (University of Tunis El Manar, Tunisia)</p>\n",
        "\n",
        "<p>How did names get on this list? Authors including \"Tunisia\" in their affiliations are listed. If you like to be included, please create your <a href=\"https://rankus.univ-sfax.tn/google_scholar.mp4\">public Google Scholar account</a> and include \"Tunisia\" in your affiliation.</p>\n",
        "\n",
        "<div id=\"date\" style=\"width:800px\" bis_skin_checked=\"1\"><small>Data scraped from Google Scholar: \"name\", \"areas of interest\", \"h-index\", \"5-year h-index\", \"i10-index\", and \"5-year i10-index\" are from\n",
        "author profile; The HTML layout of this ranking is derived from the <a href=\"https://github.com/lintool/scholar-scraper/\">Big Cows Ranking</a> of <a href=\"https://cs.uwaterloo.ca/~jimmylin/\">Jimmy Lin</a>.</small>\n",
        "<p><small>Further information about this ranking can be found <a href=\"https://github.com/Frostbite22/TuniSci/\">here</a></small></p>\n",
        "<p><small>Last updated: '''+date_time+'''</small></p></div>\n",
        "<p>\n",
        "<table id=\"stats\" border=\"0\" class=\"js-sort-table\" width=\"300\">\n",
        "<thead>\n",
        "<tr>\n",
        "    <th class=\"header js-sort-last\">name</th>\n",
        "    <th class=\"header js-sort-number\">h-index</th>\n",
        "    <th class=\"header js-sort-number\">i10-index</th>\n",
        "    <th class=\"header js-sort-number\">5y h-index</th>\n",
        "    <th class=\"header js-sort-number\">5y i10-index</th>\n",
        "</tr>\n",
        "</thead>\n",
        "<tbody>''')"
      ],
      "metadata": {
        "id": "hiZjB-WJVrIf"
      },
      "execution_count": 13,
      "outputs": []
    },
    {
      "cell_type": "code",
      "source": [
        "with open('/content/drive/MyDrive/ranking.html','a') as f2:\n",
        "  for author in content:\n",
        "    f2.write('''<tr><td style=\"text-align: left\"><a href=\"'''+str(author.get('profile_link'))+'''\" class=\"tooltip\">'''+str(author.get('profile_name'))+'''<span><b>'''+str(author.get('profile_name'))+'''</b><br>'''+str(author.get('profile_affiliations'))+'''<br><small><i>'''+str(author['profile_interests'])[1:-1]+'''</i></small><br></span></a></td><td>'''+str(author.get('hindex'))+'''</td><td>'''+str(author.get('i10index'))+'''</td><td>'''+str(author.get('hindex5y'))+'''</td><td>'''+str(author.get('i10index5y'))+'''</td></tr>''')\n",
        "    f2.flush()"
      ],
      "metadata": {
        "id": "suUyKPJJjV8j"
      },
      "execution_count": 22,
      "outputs": []
    },
    {
      "cell_type": "code",
      "source": [
        "with open('/content/drive/MyDrive/ranking.html','a') as f2:\n",
        "  f2.write('''</tbody>\n",
        "</table>\n",
        "</p>\n",
        "\n",
        "\n",
        "</body>\n",
        "</html>''')"
      ],
      "metadata": {
        "id": "x-QYyRO3n4Bi"
      },
      "execution_count": 15,
      "outputs": []
    }
  ]
}
